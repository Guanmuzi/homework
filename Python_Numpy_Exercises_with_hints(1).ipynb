{
 "cells": [
  {
   "cell_type": "markdown",
   "id": "bf79c78b",
   "metadata": {},
   "source": [
    "# Python NumPy Exercises\n",
    "\n",
    "This is a collection of exercises that have been collected in the numpy mailing list, on stack overflow\n",
    "and in the numpy documentation. The goal of this collection is to offer a quick reference for both old\n",
    "and new users but also to provide a set of exercises for those who teach."
   ]
  },
  {
   "cell_type": "markdown",
   "id": "017db353",
   "metadata": {},
   "source": [
    "#### 1. Import the numpy package under the name `np` and print the numpy version and the configuration (★☆☆)\n",
    "\n",
    "`Hint: import … as` and `np.__version__, np.show_config)`"
   ]
  },
  {
   "cell_type": "code",
   "execution_count": 4,
   "id": "e28779fe",
   "metadata": {},
   "outputs": [
    {
     "name": "stdout",
     "output_type": "stream",
     "text": [
      "1.20.1\n"
     ]
    },
    {
     "data": {
      "text/plain": [
       "<function numpy.__config__.show()>"
      ]
     },
     "execution_count": 4,
     "metadata": {},
     "output_type": "execute_result"
    }
   ],
   "source": [
    "import numpy as np\n",
    "print (np.__version__)\n",
    "np.show_config"
   ]
  },
  {
   "cell_type": "markdown",
   "id": "46950f4f",
   "metadata": {},
   "source": [
    "#### 2. Convert a list of numeric value into a one-dimensional NumPy array (★☆☆)\n",
    "`💡 hint: numpy.array`"
   ]
  },
  {
   "cell_type": "code",
   "execution_count": 11,
   "id": "9b0e875f",
   "metadata": {},
   "outputs": [
    {
     "data": {
      "text/plain": [
       "array([1, 2, 3, 4, 5])"
      ]
     },
     "execution_count": 11,
     "metadata": {},
     "output_type": "execute_result"
    }
   ],
   "source": [
    "my_list = [1,2,3,4,5]\n",
    "numpy_array_from_list = np.array(my_list)\n",
    "numpy_array_from_list"
   ]
  },
  {
   "cell_type": "markdown",
   "id": "e3c20b3d",
   "metadata": {},
   "source": [
    "#### 3. Create a null vector of size 9 (★☆☆)\n",
    "`💡 hint: np.zeros`"
   ]
  },
  {
   "cell_type": "code",
   "execution_count": 16,
   "id": "96d0b63e",
   "metadata": {},
   "outputs": [
    {
     "name": "stdout",
     "output_type": "stream",
     "text": [
      "[0. 0. 0. 0. 0. 0. 0. 0. 0.]\n"
     ]
    }
   ],
   "source": [
    "a=np.zeros((9))\n",
    "print(a)"
   ]
  },
  {
   "cell_type": "markdown",
   "id": "b15a879f",
   "metadata": {},
   "source": [
    "#### 4. How to find the memory size of any array (★☆☆)\n",
    "`💡 hint: size, itemsize`"
   ]
  },
  {
   "cell_type": "code",
   "execution_count": 17,
   "id": "32f9025c",
   "metadata": {},
   "outputs": [
    {
     "name": "stdout",
     "output_type": "stream",
     "text": [
      "4\n",
      "3\n"
     ]
    }
   ],
   "source": [
    "b = np.array([1,2,3])\n",
    "print(b.itemsize)\n",
    "print(b.size)"
   ]
  },
  {
   "cell_type": "markdown",
   "id": "0a708990",
   "metadata": {},
   "source": [
    "#### 5. How to get the documentation of the numpy add function from the command line? (★☆☆)\n",
    "`💡hint: np.info`"
   ]
  },
  {
   "cell_type": "code",
   "execution_count": 18,
   "id": "d254eea5",
   "metadata": {},
   "outputs": [
    {
     "name": "stdout",
     "output_type": "stream",
     "text": [
      "add(x1, x2, /, out=None, *, where=True, casting='same_kind', order='K', dtype=None, subok=True[, signature, extobj])\n",
      "\n",
      "Add arguments element-wise.\n",
      "\n",
      "Parameters\n",
      "----------\n",
      "x1, x2 : array_like\n",
      "    The arrays to be added.\n",
      "    If ``x1.shape != x2.shape``, they must be broadcastable to a common\n",
      "    shape (which becomes the shape of the output).\n",
      "out : ndarray, None, or tuple of ndarray and None, optional\n",
      "    A location into which the result is stored. If provided, it must have\n",
      "    a shape that the inputs broadcast to. If not provided or None,\n",
      "    a freshly-allocated array is returned. A tuple (possible only as a\n",
      "    keyword argument) must have length equal to the number of outputs.\n",
      "where : array_like, optional\n",
      "    This condition is broadcast over the input. At locations where the\n",
      "    condition is True, the `out` array will be set to the ufunc result.\n",
      "    Elsewhere, the `out` array will retain its original value.\n",
      "    Note that if an uninitialized `out` array is created via the default\n",
      "    ``out=None``, locations within it where the condition is False will\n",
      "    remain uninitialized.\n",
      "**kwargs\n",
      "    For other keyword-only arguments, see the\n",
      "    :ref:`ufunc docs <ufuncs.kwargs>`.\n",
      "\n",
      "Returns\n",
      "-------\n",
      "add : ndarray or scalar\n",
      "    The sum of `x1` and `x2`, element-wise.\n",
      "    This is a scalar if both `x1` and `x2` are scalars.\n",
      "\n",
      "Notes\n",
      "-----\n",
      "Equivalent to `x1` + `x2` in terms of array broadcasting.\n",
      "\n",
      "Examples\n",
      "--------\n",
      ">>> np.add(1.0, 4.0)\n",
      "5.0\n",
      ">>> x1 = np.arange(9.0).reshape((3, 3))\n",
      ">>> x2 = np.arange(3.0)\n",
      ">>> np.add(x1, x2)\n",
      "array([[  0.,   2.,   4.],\n",
      "       [  3.,   5.,   7.],\n",
      "       [  6.,   8.,  10.]])\n",
      "\n",
      "The ``+`` operator can be used as a shorthand for ``np.add`` on ndarrays.\n",
      "\n",
      ">>> x1 = np.arange(9.0).reshape((3, 3))\n",
      ">>> x2 = np.arange(3.0)\n",
      ">>> x1 + x2\n",
      "array([[ 0.,  2.,  4.],\n",
      "       [ 3.,  5.,  7.],\n",
      "       [ 6.,  8., 10.]])\n"
     ]
    }
   ],
   "source": [
    "np.info(np.add)"
   ]
  },
  {
   "cell_type": "markdown",
   "id": "0b16cd77",
   "metadata": {},
   "source": [
    "#### 6. Create a null vector of size 12 but the sixth value which is 1 (★☆☆)\n",
    "`💡hint: array[12]`"
   ]
  },
  {
   "cell_type": "code",
   "execution_count": 20,
   "id": "05223560",
   "metadata": {},
   "outputs": [
    {
     "name": "stdout",
     "output_type": "stream",
     "text": [
      "[0. 0. 0. 0. 0. 0. 1. 0. 0. 0. 0. 0.]\n"
     ]
    }
   ],
   "source": [
    "c=np.zeros(12)\n",
    "c[6]=1\n",
    "print(c)"
   ]
  },
  {
   "cell_type": "markdown",
   "id": "782d4c77",
   "metadata": {},
   "source": [
    "#### 7. Create a vector with values ranging from 20 to 59 (★☆☆)\n",
    "`💡hint: arange`"
   ]
  },
  {
   "cell_type": "code",
   "execution_count": 23,
   "id": "7250d114",
   "metadata": {},
   "outputs": [
    {
     "name": "stdout",
     "output_type": "stream",
     "text": [
      "[20 21 22 23 24 25 26 27 28 29 30 31 32 33 34 35 36 37 38 39 40 41 42 43\n",
      " 44 45 46 47 48 49 50 51 52 53 54 55 56 57 58]\n"
     ]
    }
   ],
   "source": [
    "a=np.arange(20,59)\n",
    "print(a)"
   ]
  },
  {
   "cell_type": "markdown",
   "id": "48d48f01",
   "metadata": {},
   "source": [
    "#### 8. Reverse a vector (first element becomes last) (★☆☆)\n",
    "`💡hint: array[::-1]`"
   ]
  },
  {
   "cell_type": "code",
   "execution_count": 24,
   "id": "fb702ae0",
   "metadata": {},
   "outputs": [
    {
     "name": "stdout",
     "output_type": "stream",
     "text": [
      "[58 57 56 55 54 53 52 51 50 49 48 47 46 45 44 43 42 41 40 39 38 37 36 35\n",
      " 34 33 32 31 30 29 28 27 26 25 24 23 22 21 20]\n"
     ]
    }
   ],
   "source": [
    "b=np.arange(20,59)\n",
    "b=b[::-1]\n",
    "print(b)"
   ]
  },
  {
   "cell_type": "markdown",
   "id": "4fa39382",
   "metadata": {},
   "source": [
    "#### 9. Create a 3x3 matrix with values ranging from 12 to 20 (★☆☆)\n",
    "`💡hint: reshape`"
   ]
  },
  {
   "cell_type": "code",
   "execution_count": 36,
   "id": "97e6be92",
   "metadata": {},
   "outputs": [
    {
     "name": "stdout",
     "output_type": "stream",
     "text": [
      "[[12 13 14]\n",
      " [15 16 17]\n",
      " [18 19 20]]\n"
     ]
    }
   ],
   "source": [
    "c=np.arange(12,21)\n",
    "c=c.reshape(3,3)\n",
    "print(c)"
   ]
  },
  {
   "cell_type": "markdown",
   "id": "da64551a",
   "metadata": {},
   "source": [
    "#### 10. Find indices of non-zero elements from [3,7,0,0,9,0] (★☆☆)\n",
    "`💡hint: np.nonzero`"
   ]
  },
  {
   "cell_type": "code",
   "execution_count": 30,
   "id": "322b2b68",
   "metadata": {},
   "outputs": [
    {
     "name": "stdout",
     "output_type": "stream",
     "text": [
      "(array([0, 1, 4], dtype=int64),)\n"
     ]
    }
   ],
   "source": [
    "a=np.nonzero([3,7,0,0,9,0])\n",
    "print(a)"
   ]
  },
  {
   "cell_type": "markdown",
   "id": "f89d9c9e",
   "metadata": {},
   "source": [
    "#### 11. Create a 4x4 identity matrix (★☆☆)\n",
    "`💡hint: np.eye`"
   ]
  },
  {
   "cell_type": "code",
   "execution_count": 31,
   "id": "5717e1c1",
   "metadata": {},
   "outputs": [
    {
     "name": "stdout",
     "output_type": "stream",
     "text": [
      "[[1. 0. 0. 0.]\n",
      " [0. 1. 0. 0.]\n",
      " [0. 0. 1. 0.]\n",
      " [0. 0. 0. 1.]]\n"
     ]
    }
   ],
   "source": [
    "b=np.eye(4,4)\n",
    "print(b)"
   ]
  },
  {
   "cell_type": "markdown",
   "id": "7e44c6fa",
   "metadata": {},
   "source": [
    "#### 12. Create a 2x2x2 array with random values (★☆☆)\n",
    "`💡hint: np.random.random`"
   ]
  },
  {
   "cell_type": "code",
   "execution_count": 7,
   "id": "c8fd52e1",
   "metadata": {},
   "outputs": [
    {
     "name": "stdout",
     "output_type": "stream",
     "text": [
      "[[[0.90390505 0.70710712]\n",
      "  [0.40005434 0.49257489]]\n",
      "\n",
      " [[0.10897818 0.75631511]\n",
      "  [0.96804108 0.35124451]]]\n"
     ]
    }
   ],
   "source": [
    "c=np.random.random((2,2,2))\n",
    "print(c)"
   ]
  },
  {
   "cell_type": "markdown",
   "id": "13c5928c",
   "metadata": {},
   "source": [
    "#### 13. Create a 9x9 array with random values and find the minimum and maximum values (★☆☆)\n",
    "`💡hint: min, max`"
   ]
  },
  {
   "cell_type": "code",
   "execution_count": 9,
   "id": "0ede4d26",
   "metadata": {},
   "outputs": [
    {
     "name": "stdout",
     "output_type": "stream",
     "text": [
      "[[0.53414592 0.44327583 0.85737822 0.791293   0.36153716 0.06584995\n",
      "  0.57029568 0.11581582 0.46976197]\n",
      " [0.56842673 0.05094156 0.14480672 0.96916296 0.54940137 0.08889584\n",
      "  0.89600217 0.84689971 0.74431429]\n",
      " [0.89179027 0.857428   0.20091641 0.30875266 0.95806865 0.64776478\n",
      "  0.07844288 0.4448968  0.44956711]\n",
      " [0.83123413 0.69148189 0.23227609 0.91394918 0.18591256 0.05552284\n",
      "  0.7648904  0.01346425 0.48632081]\n",
      " [0.34768504 0.34332902 0.8987391  0.27414474 0.58548861 0.56824272\n",
      "  0.43243681 0.56474933 0.07913798]\n",
      " [0.75934373 0.29991496 0.916255   0.27144371 0.86835013 0.39521037\n",
      "  0.86022587 0.37113673 0.43486515]\n",
      " [0.43634907 0.14229077 0.98501522 0.53075425 0.00368446 0.43310618\n",
      "  0.90621951 0.46266528 0.83399863]\n",
      " [0.71652892 0.06287125 0.81558506 0.9287995  0.03772011 0.98572376\n",
      "  0.43605156 0.65517806 0.71705102]\n",
      " [0.6615906  0.00375342 0.96937592 0.55793936 0.55136167 0.52854673\n",
      "  0.14567965 0.63351673 0.42718457]]\n",
      "0.9857237616481102 0.0036844580521023795\n"
     ]
    }
   ],
   "source": [
    "a=np.random.random((9,9))\n",
    "print(a)\n",
    "max=np.max(a)\n",
    "min=np.min(a)\n",
    "print(max,min)"
   ]
  },
  {
   "cell_type": "markdown",
   "id": "3fa2e461",
   "metadata": {},
   "source": [
    "#### 14. Create a random vector of size 20 and find the mean value (★☆☆)\n",
    "`💡hint: mean`"
   ]
  },
  {
   "cell_type": "code",
   "execution_count": 10,
   "id": "c0048e59",
   "metadata": {},
   "outputs": [
    {
     "name": "stdout",
     "output_type": "stream",
     "text": [
      "[0.36338813 0.43731912 0.06990273 0.02567112 0.03152132 0.69436505\n",
      " 0.25729455 0.95140927 0.17433662 0.09414804 0.46701886 0.90009268\n",
      " 0.45290707 0.16513382 0.39093356 0.16345937 0.03314527 0.05390986\n",
      " 0.46266838 0.31799544]\n",
      "0.32533101344746423 0.32533101344746423\n"
     ]
    }
   ],
   "source": [
    "b=np.random.random(20)\n",
    "print(b)\n",
    "avg0=np.average(b)\n",
    "avg1=np.mean(b)\n",
    "print(avg0,avg1)"
   ]
  },
  {
   "cell_type": "markdown",
   "id": "73f7a549",
   "metadata": {},
   "source": [
    "#### 15. Create a 2d array with 1 on the border and 0 inside (★☆☆)\n",
    "`💡hint: array[1:-1, 1:-1]`"
   ]
  },
  {
   "cell_type": "code",
   "execution_count": 12,
   "id": "351ff928",
   "metadata": {},
   "outputs": [
    {
     "name": "stdout",
     "output_type": "stream",
     "text": [
      "[[1. 1. 1. 1. 1.]\n",
      " [1. 0. 0. 0. 1.]\n",
      " [1. 0. 0. 0. 1.]\n",
      " [1. 0. 0. 0. 1.]\n",
      " [1. 1. 1. 1. 1.]]\n"
     ]
    }
   ],
   "source": [
    "c=np.ones((5,5))\n",
    "c[1:-1, 1:-1]=0\n",
    "print(c)"
   ]
  },
  {
   "cell_type": "markdown",
   "id": "6d0c506f",
   "metadata": {},
   "source": [
    "#### 16. How to add a border (filled with 0's) around an existing array? (★☆☆)\n",
    "`💡hint: np.pad`"
   ]
  },
  {
   "cell_type": "code",
   "execution_count": 37,
   "id": "c1cc1143",
   "metadata": {},
   "outputs": [
    {
     "name": "stdout",
     "output_type": "stream",
     "text": [
      "[[0. 0. 0. 0. 0. 0. 0.]\n",
      " [0. 1. 1. 1. 1. 1. 0.]\n",
      " [0. 1. 1. 1. 1. 1. 0.]\n",
      " [0. 1. 1. 1. 1. 1. 0.]\n",
      " [0. 1. 1. 1. 1. 1. 0.]\n",
      " [0. 1. 1. 1. 1. 1. 0.]\n",
      " [0. 0. 0. 0. 0. 0. 0.]]\n",
      "[[0 0 0 0 0 0]\n",
      " [0 0 0 0 0 0]\n",
      " [0 0 0 0 0 0]\n",
      " [0 0 0 0 0 0]\n",
      " [0 0 0 0 0 0]\n",
      " [0 0 0 0 0 0]]\n"
     ]
    }
   ],
   "source": [
    "b=np.ones((5,5))\n",
    "b=np.pad(b,pad_width=1,mode='constant',constant_values=0)\n",
    "print(b)\n",
    "c[:,[0,-1]]=0\n",
    "c[[0,-1],:]=0\n",
    "print(c)"
   ]
  },
  {
   "cell_type": "markdown",
   "id": "d6ad1a9f",
   "metadata": {},
   "source": [
    "#### 17. What is the result of the following expression? (★☆☆)\n",
    "```python\n",
    "0 * np.nan\n",
    "np.nan == np.nan\n",
    "np.inf > np.nan\n",
    "np.nan - np.nan\n",
    "np.nan in set([np.nan])\n",
    "0.7 == 7 * 0.1\n",
    "```\n",
    "`💡hint: NaN = not a number, inf = infinity`"
   ]
  },
  {
   "cell_type": "code",
   "execution_count": 18,
   "id": "7ba3c441",
   "metadata": {},
   "outputs": [
    {
     "ename": "NameError",
     "evalue": "name 'nan' is not defined",
     "output_type": "error",
     "traceback": [
      "\u001b[1;31m---------------------------------------------------------------------------\u001b[0m",
      "\u001b[1;31mNameError\u001b[0m                                 Traceback (most recent call last)",
      "\u001b[1;32m<ipython-input-18-fe7593324044>\u001b[0m in \u001b[0;36m<module>\u001b[1;34m\u001b[0m\n\u001b[1;32m----> 1\u001b[1;33m \u001b[0mnan\u001b[0m\u001b[1;33m\u001b[0m\u001b[1;33m\u001b[0m\u001b[0m\n\u001b[0m\u001b[0;32m      2\u001b[0m \u001b[1;32mFalse\u001b[0m\u001b[1;33m\u001b[0m\u001b[1;33m\u001b[0m\u001b[0m\n\u001b[0;32m      3\u001b[0m \u001b[1;32mFalse\u001b[0m\u001b[1;33m\u001b[0m\u001b[1;33m\u001b[0m\u001b[0m\n\u001b[0;32m      4\u001b[0m \u001b[0mnan\u001b[0m\u001b[1;33m\u001b[0m\u001b[1;33m\u001b[0m\u001b[0m\n\u001b[0;32m      5\u001b[0m \u001b[1;32mTrue\u001b[0m\u001b[1;33m\u001b[0m\u001b[1;33m\u001b[0m\u001b[0m\n",
      "\u001b[1;31mNameError\u001b[0m: name 'nan' is not defined"
     ]
    }
   ],
   "source": [
    "nan\n",
    "False\n",
    "False\n",
    "nan\n",
    "True\n",
    "False"
   ]
  },
  {
   "cell_type": "markdown",
   "id": "e3a7ba7f",
   "metadata": {},
   "source": [
    "#### 18. Create a 6x6 matrix with values 1,2,3,4 just below the diagonal (★☆☆)\n",
    "`💡hint: np.diag`"
   ]
  },
  {
   "cell_type": "code",
   "execution_count": 19,
   "id": "b874734e",
   "metadata": {},
   "outputs": [
    {
     "name": "stdout",
     "output_type": "stream",
     "text": [
      "[[0 0 0 0 0]\n",
      " [1 0 0 0 0]\n",
      " [0 2 0 0 0]\n",
      " [0 0 3 0 0]\n",
      " [0 0 0 4 0]]\n"
     ]
    }
   ],
   "source": [
    "b=np.diag(1+np.arange(4),k=-1)\n",
    "print(b)"
   ]
  },
  {
   "cell_type": "markdown",
   "id": "6d17ab5d",
   "metadata": {},
   "source": [
    "#### 19. Create a 6x6 matrix and fill it with a checkerboard pattern (★☆☆)\n",
    "`💡hint: array[::2]`"
   ]
  },
  {
   "cell_type": "code",
   "execution_count": 38,
   "id": "4c4e2c5e",
   "metadata": {},
   "outputs": [
    {
     "name": "stdout",
     "output_type": "stream",
     "text": [
      "[[0 1 0 1 0 1]\n",
      " [1 0 1 0 1 0]\n",
      " [0 1 0 1 0 1]\n",
      " [1 0 1 0 1 0]\n",
      " [0 1 0 1 0 1]\n",
      " [1 0 1 0 1 0]]\n"
     ]
    }
   ],
   "source": [
    "c=np.zeros((6,6),dtype=int)\n",
    "c[1::2,::2]=1\n",
    "c[::2,1::2]=1\n",
    "print(c)"
   ]
  },
  {
   "cell_type": "markdown",
   "id": "8837119b",
   "metadata": {},
   "source": [
    "#### 20. Consider a (8,9,10) shape array, what is the index (x,y,z) of the 100th element? (★☆☆)\n",
    "`💡hint: np.unravel_index`"
   ]
  },
  {
   "cell_type": "code",
   "execution_count": 32,
   "id": "2b05c544",
   "metadata": {},
   "outputs": [
    {
     "name": "stdout",
     "output_type": "stream",
     "text": [
      "(1, 0, 9)\n"
     ]
    }
   ],
   "source": [
    "print(np.unravel_index(99,(8,9,10)))"
   ]
  },
  {
   "cell_type": "markdown",
   "id": "ec788c9f",
   "metadata": {},
   "source": [
    "#### 21. Create a checkerboard 8x8 matrix using the tile function (★☆☆)\n",
    "`💡hint: np.tile`"
   ]
  },
  {
   "cell_type": "code",
   "execution_count": 34,
   "id": "c3980b2c",
   "metadata": {},
   "outputs": [
    {
     "name": "stdout",
     "output_type": "stream",
     "text": [
      "[[0 1]\n",
      " [1 0]]\n",
      "[[0 1 0 1 0 1 0 1]\n",
      " [1 0 1 0 1 0 1 0]\n",
      " [0 1 0 1 0 1 0 1]\n",
      " [1 0 1 0 1 0 1 0]\n",
      " [0 1 0 1 0 1 0 1]\n",
      " [1 0 1 0 1 0 1 0]\n",
      " [0 1 0 1 0 1 0 1]\n",
      " [1 0 1 0 1 0 1 0]]\n"
     ]
    }
   ],
   "source": [
    "a=np.array([[0,1],[1,0]])\n",
    "print(a)\n",
    "b=np.tile(a,(4,4))\n",
    "print(b)"
   ]
  },
  {
   "cell_type": "markdown",
   "id": "391791e0",
   "metadata": {},
   "source": [
    "#### 22. Normalize a 6x6 random matrix (★☆☆)\n",
    "`💡hint: (x -mean)/std`"
   ]
  },
  {
   "cell_type": "code",
   "execution_count": 36,
   "id": "ada71c06",
   "metadata": {},
   "outputs": [
    {
     "name": "stdout",
     "output_type": "stream",
     "text": [
      "[[0.13503103 0.29421746 0.8112145  0.18715641 0.71441145 0.59935436]\n",
      " [0.39685734 0.78504944 0.60413277 0.56945068 0.14567184 0.49503856]\n",
      " [0.19641922 0.47751018 0.54064077 0.59847086 0.13462546 0.20668068]\n",
      " [0.40516596 0.24538697 0.52819372 0.80210117 0.06065917 0.06306878]\n",
      " [0.31527665 0.62504998 0.37792505 0.11336401 0.28045171 0.50856888]\n",
      " [0.63754011 0.88840395 0.67070608 0.25198465 0.50498195 0.32879332]]\n",
      "[[-1.28257268 -0.59167673  1.65217773 -1.05633973  1.23203615  0.73266895]\n",
      " [-0.14620229  1.53861693  0.75340803  0.60288192 -1.23638978  0.27992075]\n",
      " [-1.01613758  0.20384463  0.47784203  0.72883442 -1.28433296 -0.97160113]\n",
      " [-0.11014151 -0.80360927  0.42381976  1.61262432 -1.60535914 -1.594901  ]\n",
      " [-0.50027628  0.84419227 -0.22837164 -1.37661122 -0.65142239  0.33864462]\n",
      " [ 0.89840155  1.98719296  1.04234744 -0.77497423  0.32307675 -0.44161164]]\n"
     ]
    }
   ],
   "source": [
    "a=np.random.random((6,6))\n",
    "print(a)\n",
    "b=(a-np.mean(a))/np.std(a)\n",
    "print(b)"
   ]
  },
  {
   "cell_type": "markdown",
   "id": "1e74d39e",
   "metadata": {},
   "source": [
    "#### 23. find the number of elements of an array, length of one array element in bytes and total bytes consumed by the elements. (★☆☆)"
   ]
  },
  {
   "cell_type": "code",
   "execution_count": null,
   "id": "eb0e066c",
   "metadata": {},
   "outputs": [],
   "source": []
  },
  {
   "cell_type": "markdown",
   "id": "78250c14",
   "metadata": {},
   "source": [
    "#### 24. Multiply a 6x3 matrix by a 3x4 matrix (real matrix product) (★☆☆)\n",
    "`💡hint: np.dot` or `np.ones`"
   ]
  },
  {
   "cell_type": "code",
   "execution_count": 46,
   "id": "2e482afe",
   "metadata": {},
   "outputs": [
    {
     "name": "stdout",
     "output_type": "stream",
     "text": [
      "[[0.9902888  0.99682469 0.99305937 0.51588614]\n",
      " [0.89916814 0.8256432  0.94351196 0.59030825]\n",
      " [0.7165023  0.34373051 0.4692712  0.23745889]\n",
      " [0.86440777 1.00699852 1.06592284 0.67305818]\n",
      " [1.14852234 0.90590536 1.18550468 0.8258238 ]\n",
      " [0.97011992 0.86055009 0.86860709 0.41951963]]\n"
     ]
    },
    {
     "ename": "AttributeError",
     "evalue": "module 'numpy' has no attribute 'pnes'",
     "output_type": "error",
     "traceback": [
      "\u001b[1;31m---------------------------------------------------------------------------\u001b[0m",
      "\u001b[1;31mAttributeError\u001b[0m                            Traceback (most recent call last)",
      "\u001b[1;32m<ipython-input-46-e049b8da7277>\u001b[0m in \u001b[0;36m<module>\u001b[1;34m\u001b[0m\n\u001b[0;32m      1\u001b[0m \u001b[0mprint\u001b[0m\u001b[1;33m(\u001b[0m\u001b[0mnp\u001b[0m\u001b[1;33m.\u001b[0m\u001b[0mdot\u001b[0m\u001b[1;33m(\u001b[0m\u001b[0mnp\u001b[0m\u001b[1;33m.\u001b[0m\u001b[0mrandom\u001b[0m\u001b[1;33m.\u001b[0m\u001b[0mrandom\u001b[0m\u001b[1;33m(\u001b[0m\u001b[1;33m(\u001b[0m\u001b[1;36m6\u001b[0m\u001b[1;33m,\u001b[0m\u001b[1;36m3\u001b[0m\u001b[1;33m)\u001b[0m\u001b[1;33m)\u001b[0m\u001b[1;33m,\u001b[0m\u001b[0mnp\u001b[0m\u001b[1;33m.\u001b[0m\u001b[0mrandom\u001b[0m\u001b[1;33m.\u001b[0m\u001b[0mrandom\u001b[0m\u001b[1;33m(\u001b[0m\u001b[1;33m(\u001b[0m\u001b[1;36m3\u001b[0m\u001b[1;33m,\u001b[0m\u001b[1;36m4\u001b[0m\u001b[1;33m)\u001b[0m\u001b[1;33m)\u001b[0m\u001b[1;33m)\u001b[0m\u001b[1;33m)\u001b[0m\u001b[1;33m\u001b[0m\u001b[1;33m\u001b[0m\u001b[0m\n\u001b[1;32m----> 2\u001b[1;33m \u001b[0mprint\u001b[0m\u001b[1;33m(\u001b[0m\u001b[0mnp\u001b[0m\u001b[1;33m.\u001b[0m\u001b[0mpnes\u001b[0m\u001b[1;33m(\u001b[0m\u001b[1;33m(\u001b[0m\u001b[1;36m6\u001b[0m\u001b[1;33m,\u001b[0m\u001b[1;36m3\u001b[0m\u001b[1;33m)\u001b[0m\u001b[1;33m)\u001b[0m\u001b[1;33m@\u001b[0m\u001b[0mnp\u001b[0m\u001b[1;33m.\u001b[0m\u001b[0mones\u001b[0m\u001b[1;33m(\u001b[0m\u001b[1;33m(\u001b[0m\u001b[1;36m3\u001b[0m\u001b[1;33m,\u001b[0m\u001b[1;36m4\u001b[0m\u001b[1;33m)\u001b[0m\u001b[1;33m)\u001b[0m\u001b[1;33m)\u001b[0m\u001b[1;33m\u001b[0m\u001b[1;33m\u001b[0m\u001b[0m\n\u001b[0m",
      "\u001b[1;32mC:\\ProgramData\\Anaconda3\\lib\\site-packages\\numpy\\__init__.py\u001b[0m in \u001b[0;36m__getattr__\u001b[1;34m(attr)\u001b[0m\n\u001b[0;32m    301\u001b[0m                 \u001b[1;32mreturn\u001b[0m \u001b[0mTester\u001b[0m\u001b[1;33m\u001b[0m\u001b[1;33m\u001b[0m\u001b[0m\n\u001b[0;32m    302\u001b[0m \u001b[1;33m\u001b[0m\u001b[0m\n\u001b[1;32m--> 303\u001b[1;33m             raise AttributeError(\"module {!r} has no attribute \"\n\u001b[0m\u001b[0;32m    304\u001b[0m                                  \"{!r}\".format(__name__, attr))\n\u001b[0;32m    305\u001b[0m \u001b[1;33m\u001b[0m\u001b[0m\n",
      "\u001b[1;31mAttributeError\u001b[0m: module 'numpy' has no attribute 'pnes'"
     ]
    }
   ],
   "source": [
    "print(np.dot(np.random.random((6,3)),np.random.random((3,4))))\n",
    "print(np.pnes((6,3))*np.ones((3,4)))"
   ]
  },
  {
   "cell_type": "markdown",
   "id": "51898680",
   "metadata": {},
   "source": [
    "#### 25. Given a 1D array, negate all elements which are between 3 and 8, in place. (★☆☆)\n",
    "`💡hint: >, <`"
   ]
  },
  {
   "cell_type": "code",
   "execution_count": 53,
   "id": "ee92ccaf",
   "metadata": {},
   "outputs": [
    {
     "name": "stdout",
     "output_type": "stream",
     "text": [
      "[ 0  1  2  3 -4 -5 -6 -7  8  9 10]\n"
     ]
    }
   ],
   "source": [
    "a=np.arange(11)\n",
    "a[(3<a)&(a<8)]*=-1\n",
    "print(a)"
   ]
  },
  {
   "cell_type": "markdown",
   "id": "89e78048",
   "metadata": {},
   "source": [
    "#### 26. What is the output of the following script? (★☆☆)\n",
    "```python\n",
    "\n",
    "print(sum(range(5),-1))\n",
    "from numpy import *\n",
    "print(sum(range(5),-1))\n",
    "```"
   ]
  },
  {
   "cell_type": "code",
   "execution_count": null,
   "id": "8026c969",
   "metadata": {},
   "outputs": [],
   "source": [
    "9\n",
    "10"
   ]
  },
  {
   "cell_type": "markdown",
   "id": "ebd10810",
   "metadata": {},
   "source": [
    "#### 27. Write a Python program compare two arrays using numpy (★☆☆)\n",
    "```python\n",
    "Array a: [1 2]\n",
    "Array b: [4 5]\n",
    "a > b \n",
    "[False False]\n",
    "a >= b \n",
    "[False False] \n",
    "a < b \n",
    "[ True True] \n",
    "a <= b \n",
    "[ True True]\n",
    "```"
   ]
  },
  {
   "cell_type": "code",
   "execution_count": null,
   "id": "90fed5c6",
   "metadata": {},
   "outputs": [],
   "source": []
  },
  {
   "cell_type": "markdown",
   "id": "c0e940f8",
   "metadata": {},
   "source": [
    "#### 28. What are the result of the following expressions? (★☆☆)\n",
    "```python\n",
    "np.array(0) / np.array(0)\n",
    "np.array(0) // np.array(0)\n",
    "np.array([np.nan]).astype(int).astype(float)\n",
    "```\n",
    "Consider an integer vector a\n",
    "```python\n",
    "a**a\n",
    "a << a >> 2\n",
    "a <- a\n",
    "1j*a\n",
    "a/1/1\n",
    "a<a>a\n",
    "```"
   ]
  },
  {
   "cell_type": "code",
   "execution_count": null,
   "id": "50d84cdf",
   "metadata": {},
   "outputs": [],
   "source": [
    "nan\n",
    "0\n",
    "[-2.14748365e+09]"
   ]
  },
  {
   "cell_type": "markdown",
   "id": "22713c3f",
   "metadata": {},
   "source": [
    "#### 29. How to round away from zero a float array ? (★☆☆)\n",
    "`💡hint: np.uniform, np.copysign, np.ceil, np.abs, np.where`"
   ]
  },
  {
   "cell_type": "code",
   "execution_count": 54,
   "id": "85ebdda9",
   "metadata": {},
   "outputs": [
    {
     "name": "stdout",
     "output_type": "stream",
     "text": [
      "[-7.34879329  1.48309528  3.20751474  2.13587831 -6.20725219  2.63208143\n",
      "  1.7406698  -4.06889904 -4.83198687  8.89451743]\n",
      "[-8.  2.  4.  3. -7.  3.  2. -5. -5.  9.]\n",
      "[-8.  2.  4.  3. -7.  3.  2. -5. -5.  9.]\n"
     ]
    }
   ],
   "source": [
    "a=np.random.uniform(-10,+10,10)\n",
    "print(a)\n",
    "print(np.copysign(np.ceil(np.abs(a)),a))\n",
    "print(np.where(a>0,np.ceil(a),np.floor(a)))"
   ]
  },
  {
   "cell_type": "markdown",
   "id": "f1ae2c2d",
   "metadata": {},
   "source": [
    "#### 30. How to find common values between two arrays? (★☆☆)\n",
    "`💡hint: np.intersect1d`"
   ]
  },
  {
   "cell_type": "code",
   "execution_count": 57,
   "id": "097482ad",
   "metadata": {},
   "outputs": [
    {
     "name": "stdout",
     "output_type": "stream",
     "text": [
      "[3 5 6 6 3 8 7 4 9 2] [7 4 8 5 7 0 0 5 3 6]\n",
      "[3 4 5 6 7 8]\n"
     ]
    }
   ],
   "source": [
    "a=np.random.randint(0,10,10)\n",
    "b=np.random.randint(0,10,10)\n",
    "print(a,b)\n",
    "print(np.intersect1d(a,b))"
   ]
  },
  {
   "cell_type": "markdown",
   "id": "34a7bdee",
   "metadata": {},
   "source": [
    "#### 31. How to ignore all numpy warnings (not recommended)? (★☆☆)\n",
    "`💡hint: np.seterr, np.errstate`"
   ]
  },
  {
   "cell_type": "code",
   "execution_count": 59,
   "id": "95ba8c7d",
   "metadata": {},
   "outputs": [
    {
     "ename": "SyntaxError",
     "evalue": "invalid syntax (<ipython-input-59-0c885138dce0>, line 4)",
     "output_type": "error",
     "traceback": [
      "\u001b[1;36m  File \u001b[1;32m\"<ipython-input-59-0c885138dce0>\"\u001b[1;36m, line \u001b[1;32m4\u001b[0m\n\u001b[1;33m    h np.errstate(all=\"ignore\"):\u001b[0m\n\u001b[1;37m      ^\u001b[0m\n\u001b[1;31mSyntaxError\u001b[0m\u001b[1;31m:\u001b[0m invalid syntax\n"
     ]
    }
   ],
   "source": []
  },
  {
   "cell_type": "markdown",
   "id": "37bc0973",
   "metadata": {},
   "source": [
    "#### 32. Is the following expressions true? (★☆☆)\n",
    "```python\n",
    "np.sqrt(-1) == np.emath.sqrt(-1)\n",
    "```\n",
    "`💡hint: imaginary number`"
   ]
  },
  {
   "cell_type": "code",
   "execution_count": 62,
   "id": "6925e9db",
   "metadata": {},
   "outputs": [
    {
     "name": "stdout",
     "output_type": "stream",
     "text": [
      "False\n"
     ]
    },
    {
     "name": "stderr",
     "output_type": "stream",
     "text": [
      "<ipython-input-62-297b4fa8a8eb>:1: RuntimeWarning: invalid value encountered in sqrt\n",
      "  print(np.sqrt(-1)==np.emath.sqrt(-1))\n"
     ]
    }
   ],
   "source": [
    "print(np.sqrt(-1)==np.emath.sqrt(-1))"
   ]
  },
  {
   "cell_type": "markdown",
   "id": "129c342d",
   "metadata": {},
   "source": [
    "#### 33. How to get the dates of yesterday, today and tomorrow? (★☆☆)\n",
    "`💡hint: np.datetime64, np.timedelta64`"
   ]
  },
  {
   "cell_type": "code",
   "execution_count": 65,
   "id": "0fd2f947",
   "metadata": {},
   "outputs": [
    {
     "name": "stdout",
     "output_type": "stream",
     "text": [
      "2022-05-01 2022-05-01 2022-05-01\n"
     ]
    }
   ],
   "source": [
    "yesterday=np.datetime64('today')\n",
    "today=np.datetime64('today')\n",
    "tomorrow=np.datetime64('today')\n",
    "print(yesterday,today,tomorrow)"
   ]
  },
  {
   "cell_type": "markdown",
   "id": "42f8b2f9",
   "metadata": {},
   "source": [
    "#### 34. How to get all the dates corresponding to the month of January 2016? (★★☆)\n",
    "`💡hint: np.arange(dtype=datetime64['D'])`"
   ]
  },
  {
   "cell_type": "code",
   "execution_count": 67,
   "id": "5ad086b0",
   "metadata": {},
   "outputs": [
    {
     "name": "stdout",
     "output_type": "stream",
     "text": [
      "['2016-01-01' '2016-01-02' '2016-01-03' '2016-01-04' '2016-01-05'\n",
      " '2016-01-06' '2016-01-07' '2016-01-08' '2016-01-09' '2016-01-10'\n",
      " '2016-01-11' '2016-01-12' '2016-01-13' '2016-01-14' '2016-01-15'\n",
      " '2016-01-16' '2016-01-17' '2016-01-18' '2016-01-19' '2016-01-20'\n",
      " '2016-01-21' '2016-01-22' '2016-01-23' '2016-01-24' '2016-01-25'\n",
      " '2016-01-26' '2016-01-27' '2016-01-28' '2016-01-29' '2016-01-30'\n",
      " '2016-01-31']\n"
     ]
    }
   ],
   "source": [
    "a=np.arange('2016-01','2016-02',dtype='datetime64[D]')\n",
    "print(a)"
   ]
  },
  {
   "cell_type": "markdown",
   "id": "252c43e2",
   "metadata": {},
   "source": [
    "#### 35. How to compute ((A+B)*(-A/2)) in place (without copy)? (★★☆)\n",
    "`💡hint: np.add(out=), np.negative(out=), np.multiply(out=), np.divide(out=)`"
   ]
  },
  {
   "cell_type": "code",
   "execution_count": 68,
   "id": "34488d4b",
   "metadata": {},
   "outputs": [
    {
     "name": "stdout",
     "output_type": "stream",
     "text": [
      "[1. 1. 1.] [2. 2. 2.]\n",
      "[1. 1. 1.] [3. 3. 3.]\n",
      "[0.5 0.5 0.5] [3. 3. 3.]\n",
      "[-0.5 -0.5 -0.5] [3. 3. 3.]\n",
      "[-1.5 -1.5 -1.5] [3. 3. 3.]\n"
     ]
    }
   ],
   "source": [
    "A=np.ones(3)*1\n",
    "B=np.ones(3)*2\n",
    "print(A,B)\n",
    "np.add(A,B,out=B)\n",
    "print(A,B)\n",
    "np.divide(A,2,out=A)\n",
    "print(A,B)\n",
    "np.negative(A,out=A)\n",
    "print(A,B)\n",
    "np.multiply(A,B,out=A)\n",
    "print(A,B)"
   ]
  },
  {
   "cell_type": "markdown",
   "id": "486df8ea",
   "metadata": {},
   "source": [
    "#### 36. Extract the integer part of a random array of positive numbers using 4 different methods (★★☆)\n",
    "`💡hint: %, np.floor, astype, np.trunc`"
   ]
  },
  {
   "cell_type": "code",
   "execution_count": 73,
   "id": "2680c1ca",
   "metadata": {},
   "outputs": [
    {
     "name": "stdout",
     "output_type": "stream",
     "text": [
      "[6. 7. 6. 3. 2. 8. 7. 0. 4. 5.]\n",
      "[6. 7. 6. 3. 2. 8. 7. 0. 4. 5.]\n",
      "[6. 7. 6. 3. 2. 8. 7. 0. 4. 5.]\n",
      "[6 7 6 3 2 8 7 0 4 5]\n",
      "[6. 7. 6. 3. 2. 8. 7. 0. 4. 5.]\n"
     ]
    }
   ],
   "source": [
    "a=np.random.uniform(0,10,10)\n",
    "print(a-a%1)\n",
    "print(a//1)\n",
    "print(np.floor(a))\n",
    "print(a.astype(int))\n",
    "print(np.trunc(a))"
   ]
  },
  {
   "cell_type": "markdown",
   "id": "649e89f9",
   "metadata": {},
   "source": [
    "#### 37. Create a 3x3 matrix with row values ranging from 0 to 2 (★★☆)\n",
    "`💡hint: np.arange`"
   ]
  },
  {
   "cell_type": "code",
   "execution_count": 75,
   "id": "e832212f",
   "metadata": {},
   "outputs": [
    {
     "name": "stdout",
     "output_type": "stream",
     "text": [
      "[[0. 1. 2.]\n",
      " [0. 1. 2.]\n",
      " [0. 1. 2.]]\n",
      "[[0 1 2]\n",
      " [0 1 2]\n",
      " [0 1 2]]\n"
     ]
    }
   ],
   "source": [
    "a=np.zeros((3,3))\n",
    "a+=np.arange(3)\n",
    "print(a)\n",
    "a=np.tile(np.arange(0,3),(3,1))\n",
    "print(a)"
   ]
  },
  {
   "cell_type": "markdown",
   "id": "3421e17f",
   "metadata": {},
   "source": [
    "#### 38. Consider a generator function that generates 9 integers and use it to build an array (★☆☆)\n",
    "`💡hint: np.fromiter`"
   ]
  },
  {
   "cell_type": "code",
   "execution_count": 79,
   "id": "d97fcb71",
   "metadata": {},
   "outputs": [
    {
     "name": "stdout",
     "output_type": "stream",
     "text": [
      "[0. 1. 2. 3. 4. 5. 6. 7. 8.]\n"
     ]
    }
   ],
   "source": [
    "def generate():\n",
    "    for x in range(9):\n",
    "        yield x\n",
    "a=np.fromiter(generate(),dtype=float,count=-1)\n",
    "print(a)"
   ]
  },
  {
   "cell_type": "markdown",
   "id": "483dd554",
   "metadata": {},
   "source": [
    "#### 39. Create a vector of size 10 with values ranging from 0 to 1, both excluded (★★☆)\n",
    "`💡hint: np.linspace`"
   ]
  },
  {
   "cell_type": "code",
   "execution_count": 82,
   "id": "572668cb",
   "metadata": {},
   "outputs": [
    {
     "name": "stdout",
     "output_type": "stream",
     "text": [
      "[0.09090909 0.18181818 0.27272727 0.36363636 0.45454545 0.54545455\n",
      " 0.63636364 0.72727273 0.81818182 0.90909091]\n"
     ]
    }
   ],
   "source": [
    "a=np.linspace(0,1,11,endpoint=False)[1:]\n",
    "print(a)"
   ]
  },
  {
   "cell_type": "markdown",
   "id": "2d07be1c",
   "metadata": {},
   "source": [
    "#### 40. Create a random vector of size 10 and sort it (★★☆)\n",
    "`💡hint: sort`"
   ]
  },
  {
   "cell_type": "code",
   "execution_count": 86,
   "id": "046a541a",
   "metadata": {},
   "outputs": [
    {
     "name": "stdout",
     "output_type": "stream",
     "text": [
      "[0.27028595 0.4261723  0.39498117 0.77493731 0.55611015 0.23296705\n",
      " 0.32937459 0.04793483 0.61264394 0.73417306]\n",
      "[0.04793483 0.23296705 0.27028595 0.32937459 0.39498117 0.4261723\n",
      " 0.55611015 0.61264394 0.73417306 0.77493731]\n"
     ]
    }
   ],
   "source": [
    "a=np.random.random(10)\n",
    "print(a)\n",
    "a=np.sort(a)\n",
    "print(a)"
   ]
  },
  {
   "cell_type": "markdown",
   "id": "6415f02e",
   "metadata": {},
   "source": [
    "#### 41. How to sum a small array faster than np.sum? (★★☆)\n",
    "`💡hint: np.add.reduce`"
   ]
  },
  {
   "cell_type": "code",
   "execution_count": 89,
   "id": "129e785f",
   "metadata": {},
   "outputs": [
    {
     "name": "stdout",
     "output_type": "stream",
     "text": [
      "[0 1 2 3 4 5 6 7 8 9]\n"
     ]
    }
   ],
   "source": [
    "a=np.arange(10)\n",
    "np.add.reduce(a)\n",
    "print(a)"
   ]
  },
  {
   "cell_type": "markdown",
   "id": "fe043549",
   "metadata": {},
   "source": [
    "#### 42. Consider two random array A and B, check if they are equal (★★☆)\n",
    "`💡hint: np.allclose, np.array_equal`"
   ]
  },
  {
   "cell_type": "code",
   "execution_count": 92,
   "id": "7ada2e2b",
   "metadata": {},
   "outputs": [
    {
     "name": "stdout",
     "output_type": "stream",
     "text": [
      "False\n",
      "False\n"
     ]
    }
   ],
   "source": [
    "a=np.random.randint(1,3,6)\n",
    "b=np.random.randint(1,3,6)\n",
    "equal=np.allclose(a,b)\n",
    "print(equal)\n",
    "equal=np.array_equal(a,b)\n",
    "print(equal)"
   ]
  },
  {
   "cell_type": "markdown",
   "id": "cc08f71c",
   "metadata": {},
   "source": [
    "#### 43. Make an array immutable (read-only) (★★☆)\n",
    "`💡hint: flags.writeable`"
   ]
  },
  {
   "cell_type": "code",
   "execution_count": 95,
   "id": "0b91afd1",
   "metadata": {},
   "outputs": [
    {
     "ename": "ValueError",
     "evalue": "assignment destination is read-only",
     "output_type": "error",
     "traceback": [
      "\u001b[1;31m---------------------------------------------------------------------------\u001b[0m",
      "\u001b[1;31mValueError\u001b[0m                                Traceback (most recent call last)",
      "\u001b[1;32m<ipython-input-95-c1d675a9a117>\u001b[0m in \u001b[0;36m<module>\u001b[1;34m\u001b[0m\n\u001b[0;32m      1\u001b[0m \u001b[0ma\u001b[0m\u001b[1;33m=\u001b[0m\u001b[0mnp\u001b[0m\u001b[1;33m.\u001b[0m\u001b[0mzeros\u001b[0m\u001b[1;33m(\u001b[0m\u001b[1;36m8\u001b[0m\u001b[1;33m)\u001b[0m\u001b[1;33m\u001b[0m\u001b[1;33m\u001b[0m\u001b[0m\n\u001b[0;32m      2\u001b[0m \u001b[0ma\u001b[0m\u001b[1;33m.\u001b[0m\u001b[0mflags\u001b[0m\u001b[1;33m.\u001b[0m\u001b[0mwriteable\u001b[0m\u001b[1;33m=\u001b[0m\u001b[1;32mFalse\u001b[0m\u001b[1;33m\u001b[0m\u001b[1;33m\u001b[0m\u001b[0m\n\u001b[1;32m----> 3\u001b[1;33m \u001b[0ma\u001b[0m\u001b[1;33m[\u001b[0m\u001b[1;36m0\u001b[0m\u001b[1;33m]\u001b[0m\u001b[1;33m=\u001b[0m\u001b[1;36m1\u001b[0m\u001b[1;33m\u001b[0m\u001b[1;33m\u001b[0m\u001b[0m\n\u001b[0m",
      "\u001b[1;31mValueError\u001b[0m: assignment destination is read-only"
     ]
    }
   ],
   "source": [
    "a=np.zeros(8)\n",
    "a.flags.writeable=False\n",
    "a[0]=1"
   ]
  },
  {
   "cell_type": "markdown",
   "id": "2002cb03",
   "metadata": {},
   "source": [
    "#### 44. Consider a random 5x2 matrix representing cartesian coordinates, convert them to polar coordinates (★★☆)\n",
    "`💡hint: np.sqrt, np.arctan2`"
   ]
  },
  {
   "cell_type": "code",
   "execution_count": 99,
   "id": "16476671",
   "metadata": {},
   "outputs": [
    {
     "name": "stdout",
     "output_type": "stream",
     "text": [
      "[0.37624783 0.79595811 0.84478826 0.40463045 0.47605805]\n",
      "[0.86240797 0.61871285 0.7200834  1.55410492 1.00935407]\n"
     ]
    }
   ],
   "source": [
    "a=np.random.random((5,2))\n",
    "x,y=a[:,0],a[:,1]\n",
    "r=np.sqrt(x**2+y**2)\n",
    "t=np.arctan2(y,x)\n",
    "print(r)\n",
    "print(t)"
   ]
  },
  {
   "cell_type": "markdown",
   "id": "b7109c9f",
   "metadata": {},
   "source": [
    "#### 45. Create random vector of size 5 and replace the maximum value by 0 (★★☆)\n",
    "`💡hint: argmax`"
   ]
  },
  {
   "cell_type": "code",
   "execution_count": 103,
   "id": "89b75e6d",
   "metadata": {},
   "outputs": [
    {
     "name": "stdout",
     "output_type": "stream",
     "text": [
      "[3.18694462e-01 8.81453239e-05 7.60303839e-01 2.58151054e-01\n",
      " 4.19953570e-01]\n",
      "[3.18694462e-01 8.81453239e-05 0.00000000e+00 2.58151054e-01\n",
      " 4.19953570e-01]\n"
     ]
    }
   ],
   "source": [
    "a=np.random.random(5)\n",
    "print(a)\n",
    "a[a.argmax()]=0\n",
    "print(a)"
   ]
  },
  {
   "cell_type": "markdown",
   "id": "7d3131b9",
   "metadata": {},
   "source": [
    "#### 46. Create a structured array with `x` and `y` coordinates covering the [0,1]x[0,1] area (★★☆)\n",
    "`💡hint: np.meshgrid`"
   ]
  },
  {
   "cell_type": "code",
   "execution_count": 104,
   "id": "445532d0",
   "metadata": {},
   "outputs": [
    {
     "name": "stdout",
     "output_type": "stream",
     "text": [
      "[[(0. , 0. ) (0.5, 0. ) (1. , 0. )]\n",
      " [(0. , 0.5) (0.5, 0.5) (1. , 0.5)]\n",
      " [(0. , 1. ) (0.5, 1. ) (1. , 1. )]]\n"
     ]
    }
   ],
   "source": [
    "a=np.zeros((3,3),[('x',float),('y',float)])\n",
    "a['x'],a['y']=np.meshgrid(np.linspace(0,1,3),np.linspace(0,1,3))\n",
    "print(a)"
   ]
  },
  {
   "cell_type": "markdown",
   "id": "7c8c1fc5",
   "metadata": {},
   "source": [
    "#### 47. Given two arrays, X and Y, construct the Cauchy matrix C (Cij =1/(xi - yj)) (★★☆)\n",
    "`💡hint: np.subtract.outer`"
   ]
  },
  {
   "cell_type": "code",
   "execution_count": 107,
   "id": "7668afae",
   "metadata": {},
   "outputs": [
    {
     "name": "stdout",
     "output_type": "stream",
     "text": [
      "-131.91659501325745\n"
     ]
    }
   ],
   "source": [
    "a=np.arange(5)\n",
    "b=a+0.5\n",
    "c=1/np.subtract.outer(a,b)\n",
    "print(np.linalg.det(c))"
   ]
  },
  {
   "cell_type": "markdown",
   "id": "5795b4bd",
   "metadata": {},
   "source": [
    "#### 48. Print the minimum and maximum representable value for each numpy scalar type (★★☆)\n",
    "`💡hint: np.iinfo, np.finfo, eps`"
   ]
  },
  {
   "cell_type": "code",
   "execution_count": 110,
   "id": "f2eaddaa",
   "metadata": {},
   "outputs": [
    {
     "name": "stdout",
     "output_type": "stream",
     "text": [
      "-128\n",
      "127\n",
      "-2147483648\n",
      "2147483647\n",
      "-9223372036854775808\n",
      "9223372036854775807\n",
      "-3.4028235e+38\n",
      "3.4028235e+38\n",
      "1.1920929e-07\n",
      "-1.7976931348623157e+308\n",
      "1.7976931348623157e+308\n",
      "2.220446049250313e-16\n"
     ]
    },
    {
     "name": "stderr",
     "output_type": "stream",
     "text": [
      "<ipython-input-110-09d3fcbaa3b3>:4: DeprecationWarning: `np.float` is a deprecated alias for the builtin `float`. To silence this warning, use `float` by itself. Doing this will not modify any behavior and is safe. If you specifically wanted the numpy scalar type, use `np.float64` here.\n",
      "Deprecated in NumPy 1.20; for more details and guidance: https://numpy.org/devdocs/release/1.20.0-notes.html#deprecations\n",
      "  for dtype in [np.float32,np.float]:\n"
     ]
    }
   ],
   "source": [
    "for dtype in [np.int8,np.int32,np.int64]:\n",
    "    print(np.iinfo(dtype).min)\n",
    "    print(np.iinfo(dtype).max)\n",
    "for dtype in [np.float32,np.float]:\n",
    "    print(np.finfo(dtype).min)\n",
    "    print(np.finfo(dtype).max)\n",
    "    print(np.finfo(dtype).eps)"
   ]
  },
  {
   "cell_type": "markdown",
   "id": "fb24674c",
   "metadata": {},
   "source": [
    "#### 49. How to print all the values of an array? (★★☆)\n",
    "`💡hint: np.set_printoptions`"
   ]
  },
  {
   "cell_type": "code",
   "execution_count": 112,
   "id": "9bdfaefe",
   "metadata": {},
   "outputs": [
    {
     "name": "stdout",
     "output_type": "stream",
     "text": [
      "[[0. 0. 0. 0. 0. 0. 0. 0. 0. 0. 0. 0. 0. 0. 0. 0. 0. 0. 0. 0.]\n",
      " [0. 0. 0. 0. 0. 0. 0. 0. 0. 0. 0. 0. 0. 0. 0. 0. 0. 0. 0. 0.]\n",
      " [0. 0. 0. 0. 0. 0. 0. 0. 0. 0. 0. 0. 0. 0. 0. 0. 0. 0. 0. 0.]\n",
      " [0. 0. 0. 0. 0. 0. 0. 0. 0. 0. 0. 0. 0. 0. 0. 0. 0. 0. 0. 0.]\n",
      " [0. 0. 0. 0. 0. 0. 0. 0. 0. 0. 0. 0. 0. 0. 0. 0. 0. 0. 0. 0.]\n",
      " [0. 0. 0. 0. 0. 0. 0. 0. 0. 0. 0. 0. 0. 0. 0. 0. 0. 0. 0. 0.]\n",
      " [0. 0. 0. 0. 0. 0. 0. 0. 0. 0. 0. 0. 0. 0. 0. 0. 0. 0. 0. 0.]\n",
      " [0. 0. 0. 0. 0. 0. 0. 0. 0. 0. 0. 0. 0. 0. 0. 0. 0. 0. 0. 0.]\n",
      " [0. 0. 0. 0. 0. 0. 0. 0. 0. 0. 0. 0. 0. 0. 0. 0. 0. 0. 0. 0.]\n",
      " [0. 0. 0. 0. 0. 0. 0. 0. 0. 0. 0. 0. 0. 0. 0. 0. 0. 0. 0. 0.]\n",
      " [0. 0. 0. 0. 0. 0. 0. 0. 0. 0. 0. 0. 0. 0. 0. 0. 0. 0. 0. 0.]\n",
      " [0. 0. 0. 0. 0. 0. 0. 0. 0. 0. 0. 0. 0. 0. 0. 0. 0. 0. 0. 0.]\n",
      " [0. 0. 0. 0. 0. 0. 0. 0. 0. 0. 0. 0. 0. 0. 0. 0. 0. 0. 0. 0.]\n",
      " [0. 0. 0. 0. 0. 0. 0. 0. 0. 0. 0. 0. 0. 0. 0. 0. 0. 0. 0. 0.]\n",
      " [0. 0. 0. 0. 0. 0. 0. 0. 0. 0. 0. 0. 0. 0. 0. 0. 0. 0. 0. 0.]\n",
      " [0. 0. 0. 0. 0. 0. 0. 0. 0. 0. 0. 0. 0. 0. 0. 0. 0. 0. 0. 0.]\n",
      " [0. 0. 0. 0. 0. 0. 0. 0. 0. 0. 0. 0. 0. 0. 0. 0. 0. 0. 0. 0.]\n",
      " [0. 0. 0. 0. 0. 0. 0. 0. 0. 0. 0. 0. 0. 0. 0. 0. 0. 0. 0. 0.]\n",
      " [0. 0. 0. 0. 0. 0. 0. 0. 0. 0. 0. 0. 0. 0. 0. 0. 0. 0. 0. 0.]\n",
      " [0. 0. 0. 0. 0. 0. 0. 0. 0. 0. 0. 0. 0. 0. 0. 0. 0. 0. 0. 0.]]\n"
     ]
    }
   ],
   "source": [
    "np.set_printoptions(threshold=float(\"inf\"))\n",
    "a=np.zeros((20,20))\n",
    "print(a)"
   ]
  },
  {
   "cell_type": "markdown",
   "id": "e6e1ae2f",
   "metadata": {},
   "source": [
    "#### 50. How to find the closest value (to a given scalar) in a vector? (★★☆)\n",
    "`💡hint: argmin`"
   ]
  },
  {
   "cell_type": "code",
   "execution_count": 115,
   "id": "29a9e416",
   "metadata": {},
   "outputs": [
    {
     "name": "stdout",
     "output_type": "stream",
     "text": [
      "10\n"
     ]
    }
   ],
   "source": [
    "a=np.arange(22)\n",
    "b=np.random.uniform(0,22)\n",
    "index=(np.abs(a-b)).argmin()\n",
    "print(a[index])"
   ]
  },
  {
   "cell_type": "markdown",
   "id": "c01f0ecf",
   "metadata": {},
   "source": [
    "#### 51. Create a structured array representing a position (x,y) and a color (r,g,b) (★★☆)\n",
    "`💡hint: dtype`"
   ]
  },
  {
   "cell_type": "code",
   "execution_count": null,
   "id": "a3241eca",
   "metadata": {},
   "outputs": [],
   "source": []
  },
  {
   "cell_type": "markdown",
   "id": "3b64a18b",
   "metadata": {},
   "source": [
    "#### 52. Consider a random vector with shape (100,2) representing coordinates, find point by point distances (★★☆)\n",
    "`💡hint: np.atleast_2d, T, np.sqrt`"
   ]
  },
  {
   "cell_type": "code",
   "execution_count": null,
   "id": "f27585c3",
   "metadata": {},
   "outputs": [],
   "source": []
  },
  {
   "cell_type": "markdown",
   "id": "48413134",
   "metadata": {},
   "source": [
    "#### 53. How to convert a float (32 bits) array into an integer (32 bits) in place?\n",
    "`💡hint: view and [:] =`"
   ]
  },
  {
   "cell_type": "code",
   "execution_count": 129,
   "id": "59c8357d",
   "metadata": {},
   "outputs": [
    {
     "name": "stdout",
     "output_type": "stream",
     "text": [
      "[0 1 2 3 4 5 6 7 8 9]\n"
     ]
    }
   ],
   "source": [
    "a= np.arange(10, dtype=np.float32)\n",
    "a= a.astype(np.int32, copy=False)\n",
    "print(a)"
   ]
  },
  {
   "cell_type": "markdown",
   "id": "0a532633",
   "metadata": {},
   "source": [
    "#### 54. How to read the following file? (★★☆)\n",
    "```\n",
    "1, 2, 3, 4, 5\n",
    "6,  ,  , 7, 8\n",
    " ,  , 9,10,11\n",
    "```\n",
    "`💡hint: np.genfromtxt`"
   ]
  },
  {
   "cell_type": "code",
   "execution_count": 132,
   "id": "81b2915b",
   "metadata": {},
   "outputs": [
    {
     "name": "stdout",
     "output_type": "stream",
     "text": [
      "[[ 1  2  3  4  5]\n",
      " [ 6 -1 -1  7  8]\n",
      " [-1 -1  9 10 11]]\n"
     ]
    },
    {
     "name": "stderr",
     "output_type": "stream",
     "text": [
      "<ipython-input-132-b12d504a0de6>:5: DeprecationWarning: `np.int` is a deprecated alias for the builtin `int`. To silence this warning, use `int` by itself. Doing this will not modify any behavior and is safe. When replacing `np.int`, you may wish to use e.g. `np.int64` or `np.int32` to specify the precision. If you wish to review your current use, check the release note link for additional information.\n",
      "Deprecated in NumPy 1.20; for more details and guidance: https://numpy.org/devdocs/release/1.20.0-notes.html#deprecations\n",
      "  a= np.genfromtxt(s, delimiter=\",\", dtype=np.int)\n"
     ]
    }
   ],
   "source": [
    "from io import StringIO\n",
    "s = StringIO(\"\"\"1, 2, 3, 4, 5\\n\n",
    "                6,  ,  , 7, 8\\n\n",
    "                 ,  , 9,10,11\\n\"\"\")\n",
    "a= np.genfromtxt(s, delimiter=\",\", dtype=np.int)\n",
    "print(a)"
   ]
  },
  {
   "cell_type": "markdown",
   "id": "f98713a6",
   "metadata": {},
   "source": [
    "#### 55. What is the equivalent of enumerate for numpy arrays? (★★☆)\n",
    "`💡hint: np.ndenumerate, np.ndindex`"
   ]
  },
  {
   "cell_type": "code",
   "execution_count": 136,
   "id": "c8ace8dc",
   "metadata": {},
   "outputs": [
    {
     "name": "stdout",
     "output_type": "stream",
     "text": [
      "(0, 0) 0\n",
      "(0, 1) 1\n",
      "(1, 0) 2\n",
      "(1, 1) 3\n",
      "(0, 0) 0\n",
      "(0, 1) 1\n",
      "(1, 0) 2\n",
      "(1, 1) 3\n"
     ]
    }
   ],
   "source": [
    "b= np.arange(4).reshape(2,2)\n",
    "for index, value in np.ndenumerate(b):\n",
    "    print(index, value)\n",
    "for index in np.ndindex(b.shape):\n",
    "    print(index, b[index])"
   ]
  },
  {
   "cell_type": "markdown",
   "id": "1abc7cc8",
   "metadata": {},
   "source": [
    "#### 56. Generate a generic 2D Gaussian-like array (★★☆)\n",
    "`💡hint: np.meshgrid, np.exp`"
   ]
  },
  {
   "cell_type": "code",
   "execution_count": 139,
   "id": "8389dbf6",
   "metadata": {},
   "outputs": [
    {
     "name": "stdout",
     "output_type": "stream",
     "text": [
      "[[0.36787944 0.44822088 0.51979489 0.57375342 0.60279818 0.60279818\n",
      "  0.57375342 0.51979489 0.44822088 0.36787944]\n",
      " [0.44822088 0.54610814 0.63331324 0.69905581 0.73444367 0.73444367\n",
      "  0.69905581 0.63331324 0.54610814 0.44822088]\n",
      " [0.51979489 0.63331324 0.73444367 0.81068432 0.85172308 0.85172308\n",
      "  0.81068432 0.73444367 0.63331324 0.51979489]\n",
      " [0.57375342 0.69905581 0.81068432 0.89483932 0.9401382  0.9401382\n",
      "  0.89483932 0.81068432 0.69905581 0.57375342]\n",
      " [0.60279818 0.73444367 0.85172308 0.9401382  0.98773022 0.98773022\n",
      "  0.9401382  0.85172308 0.73444367 0.60279818]\n",
      " [0.60279818 0.73444367 0.85172308 0.9401382  0.98773022 0.98773022\n",
      "  0.9401382  0.85172308 0.73444367 0.60279818]\n",
      " [0.57375342 0.69905581 0.81068432 0.89483932 0.9401382  0.9401382\n",
      "  0.89483932 0.81068432 0.69905581 0.57375342]\n",
      " [0.51979489 0.63331324 0.73444367 0.81068432 0.85172308 0.85172308\n",
      "  0.81068432 0.73444367 0.63331324 0.51979489]\n",
      " [0.44822088 0.54610814 0.63331324 0.69905581 0.73444367 0.73444367\n",
      "  0.69905581 0.63331324 0.54610814 0.44822088]\n",
      " [0.36787944 0.44822088 0.51979489 0.57375342 0.60279818 0.60279818\n",
      "  0.57375342 0.51979489 0.44822088 0.36787944]]\n"
     ]
    }
   ],
   "source": [
    "X, Y = np.meshgrid(np.linspace(-1,1,10), np.linspace(-1,1,10))\n",
    "D = np.sqrt(X*X+Y*Y)\n",
    "sigma, mu = 1.0, 0.0\n",
    "G = np.exp(-( (D-mu)**2 / ( 2.0 * sigma**2 ) ) )\n",
    "print(G)"
   ]
  },
  {
   "cell_type": "markdown",
   "id": "0cf413ee",
   "metadata": {},
   "source": [
    "#### 57. How to randomly place e elements in a 2D array? (★★☆)\n",
    "`💡hint: np.put, np.random.choice`"
   ]
  },
  {
   "cell_type": "code",
   "execution_count": 141,
   "id": "884c88de",
   "metadata": {},
   "outputs": [
    {
     "name": "stdout",
     "output_type": "stream",
     "text": [
      "[[0. 0. 0. 0. 0. 0. 0. 1. 0. 0.]\n",
      " [0. 0. 0. 0. 0. 0. 0. 0. 0. 0.]\n",
      " [0. 0. 0. 0. 0. 1. 0. 0. 0. 0.]\n",
      " [0. 0. 0. 0. 0. 0. 0. 0. 0. 0.]\n",
      " [0. 0. 0. 0. 0. 0. 0. 0. 0. 0.]\n",
      " [0. 0. 0. 0. 0. 0. 0. 0. 0. 0.]\n",
      " [0. 0. 0. 0. 0. 0. 0. 0. 0. 0.]\n",
      " [0. 0. 0. 0. 0. 0. 1. 0. 0. 0.]\n",
      " [0. 0. 0. 0. 0. 0. 0. 0. 0. 0.]\n",
      " [0. 0. 0. 0. 0. 0. 0. 0. 0. 0.]]\n"
     ]
    }
   ],
   "source": [
    "n=10\n",
    "p=3\n",
    "a=np.zeros((n,n))\n",
    "np.put(a, np.random.choice(range(n*n), p, replace=False),1)\n",
    "print(a)"
   ]
  },
  {
   "cell_type": "markdown",
   "id": "215b6acc",
   "metadata": {},
   "source": [
    "#### 58. Subtract the mean of each row of a matrix (★★☆)\n",
    "`💡hint: mean(axis=,keepdims=)`"
   ]
  },
  {
   "cell_type": "code",
   "execution_count": 142,
   "id": "76d3b16a",
   "metadata": {},
   "outputs": [
    {
     "name": "stdout",
     "output_type": "stream",
     "text": [
      "[[ 0.10317151 -0.17132135  0.31450876  0.33240527 -0.29963632 -0.27912787]\n",
      " [ 0.13482492 -0.04742371  0.23867904  0.17162245 -0.53772379  0.04002108]\n",
      " [ 0.1095772  -0.47078861  0.36201379  0.2870932  -0.3717346   0.08383903]]\n"
     ]
    }
   ],
   "source": [
    "a=np.random.rand(3,6)\n",
    "b=a-a.mean(axis=1, keepdims=True)\n",
    "b=a-a.mean(axis=1).reshape(-1, 1)\n",
    "print(b)"
   ]
  },
  {
   "cell_type": "markdown",
   "id": "c0cf37e0",
   "metadata": {},
   "source": [
    "#### 59. How to sort an array by the nth column? (★★☆)\n",
    "`💡hint: argsort`"
   ]
  },
  {
   "cell_type": "code",
   "execution_count": 145,
   "id": "f99dfd2a",
   "metadata": {},
   "outputs": [
    {
     "name": "stdout",
     "output_type": "stream",
     "text": [
      "[[2 3 1]\n",
      " [2 2 2]\n",
      " [1 4 0]]\n",
      "[[2 2 2]\n",
      " [2 3 1]\n",
      " [1 4 0]]\n"
     ]
    }
   ],
   "source": [
    "a= np.random.randint(0,5,(3,3))\n",
    "print(a)\n",
    "print(a[a[:,1].argsort()])"
   ]
  },
  {
   "cell_type": "markdown",
   "id": "c17fb213",
   "metadata": {},
   "source": [
    "#### 60. How to tell if a given 2D array has null columns? (★★☆)\n",
    "`💡hint: any, ~`"
   ]
  },
  {
   "cell_type": "code",
   "execution_count": 148,
   "id": "84346fc8",
   "metadata": {},
   "outputs": [
    {
     "name": "stdout",
     "output_type": "stream",
     "text": [
      "False\n"
     ]
    }
   ],
   "source": [
    "a= np.random.randint(0,5,(5,10))\n",
    "print((~a.any(axis=0)).any())"
   ]
  },
  {
   "cell_type": "markdown",
   "id": "8aaab886",
   "metadata": {},
   "source": [
    "#### 61. Find the nearest value from a given value in an array (★★☆)\n",
    "`💡hint: np.abs, argmin, flat`"
   ]
  },
  {
   "cell_type": "code",
   "execution_count": 153,
   "id": "72a6090d",
   "metadata": {},
   "outputs": [
    {
     "name": "stdout",
     "output_type": "stream",
     "text": [
      "0.2046812038916015\n"
     ]
    }
   ],
   "source": [
    "a=np.random.uniform(0,2,10)\n",
    "b=0.5\n",
    "c=a.flat[np.abs(a-b).argmin()]\n",
    "print(c)"
   ]
  },
  {
   "cell_type": "markdown",
   "id": "66a04e2e",
   "metadata": {},
   "source": [
    "#### 62. Considering two arrays with shape (1,3) and (3,1), how to compute their sum using an iterator? (★★☆)\n",
    "`💡"
   ]
  },
  {
   "cell_type": "code",
   "execution_count": 154,
   "id": "93774f24",
   "metadata": {},
   "outputs": [
    {
     "name": "stdout",
     "output_type": "stream",
     "text": [
      "[[0 1 2]\n",
      " [1 2 3]\n",
      " [2 3 4]]\n"
     ]
    }
   ],
   "source": [
    "a=np.arange(3).reshape(3,1)\n",
    "b=np.arange(3).reshape(1,3)\n",
    "it = np.nditer([a,b,None])\n",
    "for x,y,z in it: z[...] = x + y\n",
    "print(it.operands[2])"
   ]
  },
  {
   "cell_type": "markdown",
   "id": "f4427f7f",
   "metadata": {},
   "source": [
    "#### 63. Create an array class that has a name attribute (★★☆)\n",
    "`💡hint: class method`"
   ]
  },
  {
   "cell_type": "code",
   "execution_count": null,
   "id": "6e1952ed",
   "metadata": {},
   "outputs": [],
   "source": []
  },
  {
   "cell_type": "markdown",
   "id": "58be9dd4",
   "metadata": {},
   "source": [
    "#### 64. Consider a given vector, how to add 1 to each element indexed by a second vector (be careful with repeated indices)? (★★★)\n",
    "`💡hint: np.bincount | np.add.at`"
   ]
  },
  {
   "cell_type": "code",
   "execution_count": 167,
   "id": "9cf9e134",
   "metadata": {},
   "outputs": [
    {
     "name": "stdout",
     "output_type": "stream",
     "text": [
      "[5. 2. 2. 2. 4.]\n",
      "[9. 3. 3. 3. 7.]\n"
     ]
    }
   ],
   "source": [
    "a= np.ones(5)\n",
    "b= np.random.randint(0,len(a),10)\n",
    "a+= np.bincount(b, minlength=len(a))\n",
    "print(a)\n",
    "np.add.at(a,b,1)\n",
    "print(a)"
   ]
  },
  {
   "cell_type": "markdown",
   "id": "7348abd0",
   "metadata": {},
   "source": [
    "#### 65. How to accumulate elements of a vector (X) to an array (F) based on an index list (I)? (★★★)\n",
    "`💡hint: np.bincount`"
   ]
  },
  {
   "cell_type": "code",
   "execution_count": 176,
   "id": "43a58dde",
   "metadata": {},
   "outputs": [
    {
     "name": "stdout",
     "output_type": "stream",
     "text": [
      "[0. 1. 3. 9. 3. 4. 1.]\n"
     ]
    }
   ],
   "source": [
    "a=[1,2,3,4,5,6]\n",
    "b=[1,3,9,3,4,1]\n",
    "c=np.bincount(a,b)\n",
    "print(c)"
   ]
  },
  {
   "cell_type": "markdown",
   "id": "538e651c",
   "metadata": {},
   "source": [
    "#### 66. Considering a (w,h,3) image of (dtype=ubyte), compute the number of unique colors (★★☆)\n",
    "`💡hint: np.unique`"
   ]
  },
  {
   "cell_type": "code",
   "execution_count": 171,
   "id": "60b487a1",
   "metadata": {},
   "outputs": [
    {
     "name": "stdout",
     "output_type": "stream",
     "text": [
      "[0 1]\n"
     ]
    }
   ],
   "source": [
    "w,h = 16,16\n",
    "I = np.random.randint(0,2,(h,w,3)).astype(np.ubyte)\n",
    "F = I[...,0]*256*256 + I[...,1]*256 +I[...,2]\n",
    "n = len(np.unique(F))\n",
    "print(np.unique(I))"
   ]
  },
  {
   "cell_type": "markdown",
   "id": "33c986d9",
   "metadata": {},
   "source": [
    "#### 67. Considering a four dimensions array, how to get sum over the last two axis at once? (★★★)\n",
    "`💡hint: sum(axis=(-2,-1))`"
   ]
  },
  {
   "cell_type": "code",
   "execution_count": 178,
   "id": "6ba943fe",
   "metadata": {},
   "outputs": [
    {
     "name": "stdout",
     "output_type": "stream",
     "text": [
      "[[58 57 65 49]\n",
      " [43 53 48 59]\n",
      " [34 62 55 48]]\n",
      "[[58 57 65 49]\n",
      " [43 53 48 59]\n",
      " [34 62 55 48]]\n"
     ]
    }
   ],
   "source": [
    "a=np.random.randint(0,10,(3,4,3,4))\n",
    "sum=a.sum(axis=(-2,-1))\n",
    "print(sum)\n",
    "sum=a.reshape(a.shape[:-2] + (-1,)).sum(axis=-1)\n",
    "print(sum)"
   ]
  },
  {
   "cell_type": "markdown",
   "id": "00eb27c4",
   "metadata": {},
   "source": [
    "#### 68. Considering a one-dimensional vector D, how to compute means of subsets of D using a vector S of same size describing subset  indices? (★★★)\n",
    "`💡hint: np.bincount`"
   ]
  },
  {
   "cell_type": "code",
   "execution_count": null,
   "id": "177b219c",
   "metadata": {},
   "outputs": [],
   "source": []
  },
  {
   "cell_type": "markdown",
   "id": "928a1a15",
   "metadata": {},
   "source": [
    "#### 69. How to get the diagonal of a dot product? (★★★)\n",
    "`💡hint: np.diag`"
   ]
  },
  {
   "cell_type": "code",
   "execution_count": 182,
   "id": "038b9c1c",
   "metadata": {},
   "outputs": [
    {
     "data": {
      "text/plain": [
       "array([1.40965926, 1.76780379, 2.47852886, 1.20860969, 1.09927431])"
      ]
     },
     "execution_count": 182,
     "metadata": {},
     "output_type": "execute_result"
    }
   ],
   "source": [
    "a=np.random.uniform(0,1,(5,5))\n",
    "b=np.random.uniform(0,1,(5,5))\n",
    "np.diag(np.dot(a,b))\n",
    "np.sum(a*b.T,axis=1)\n",
    "np.einsum(\"ij,ji->i\",a,b)"
   ]
  },
  {
   "cell_type": "markdown",
   "id": "5143f7f3",
   "metadata": {},
   "source": [
    "#### 70. Consider the vector [1, 2, 3, 4, 5], how to build a new vector with 3 consecutive zeros interleaved between each value? (★★★)\n",
    "`💡hint: array[::4]`"
   ]
  },
  {
   "cell_type": "code",
   "execution_count": 184,
   "id": "9913e7b0",
   "metadata": {},
   "outputs": [
    {
     "name": "stdout",
     "output_type": "stream",
     "text": [
      "[1. 0. 0. 0. 2. 0. 0. 0. 3. 0. 0. 0. 4. 0. 0. 0. 5.]\n"
     ]
    }
   ],
   "source": [
    "a=np.array([1,2,3,4,5])\n",
    "nz=3\n",
    "a0=np.zeros(len(a)+(len(a)-1)*(nz))\n",
    "a0[::nz+1]=a\n",
    "print(a0)"
   ]
  },
  {
   "cell_type": "markdown",
   "id": "f62551d8",
   "metadata": {},
   "source": [
    "#### 71. Consider an array of dimension (5,5,3), how to mulitply it by an array with dimensions (5,5)? (★★★)\n",
    "`💡hint: array[:, :, None]`"
   ]
  },
  {
   "cell_type": "code",
   "execution_count": 185,
   "id": "02967528",
   "metadata": {},
   "outputs": [
    {
     "name": "stdout",
     "output_type": "stream",
     "text": [
      "[[[2. 2. 2.]\n",
      "  [2. 2. 2.]\n",
      "  [2. 2. 2.]\n",
      "  [2. 2. 2.]\n",
      "  [2. 2. 2.]]\n",
      "\n",
      " [[2. 2. 2.]\n",
      "  [2. 2. 2.]\n",
      "  [2. 2. 2.]\n",
      "  [2. 2. 2.]\n",
      "  [2. 2. 2.]]\n",
      "\n",
      " [[2. 2. 2.]\n",
      "  [2. 2. 2.]\n",
      "  [2. 2. 2.]\n",
      "  [2. 2. 2.]\n",
      "  [2. 2. 2.]]\n",
      "\n",
      " [[2. 2. 2.]\n",
      "  [2. 2. 2.]\n",
      "  [2. 2. 2.]\n",
      "  [2. 2. 2.]\n",
      "  [2. 2. 2.]]\n",
      "\n",
      " [[2. 2. 2.]\n",
      "  [2. 2. 2.]\n",
      "  [2. 2. 2.]\n",
      "  [2. 2. 2.]\n",
      "  [2. 2. 2.]]]\n"
     ]
    }
   ],
   "source": [
    "a=np.ones((5,5,3))\n",
    "b=2*np.ones((5,5))\n",
    "print(a*b[:,:,None])"
   ]
  },
  {
   "cell_type": "markdown",
   "id": "6896e326",
   "metadata": {},
   "source": [
    "#### 72. How to swap two rows of an array? (★★★)\n",
    "`💡hint: array[[]] = array[[]]`"
   ]
  },
  {
   "cell_type": "code",
   "execution_count": 190,
   "id": "33488c53",
   "metadata": {},
   "outputs": [
    {
     "name": "stdout",
     "output_type": "stream",
     "text": [
      "[[ 5  6  7  8  9]\n",
      " [ 0  1  2  3  4]\n",
      " [10 11 12 13 14]\n",
      " [15 16 17 18 19]\n",
      " [20 21 22 23 24]]\n"
     ]
    }
   ],
   "source": [
    "a=np.arange(25).reshape(5,5)\n",
    "a[[0,1]]=a[[1,0]]\n",
    "print(a)"
   ]
  },
  {
   "cell_type": "markdown",
   "id": "aeaf4a7b",
   "metadata": {},
   "source": [
    "#### 73. Consider a set of 10 triplets describing 10 triangles (with shared vertices), find the set of unique line segments composing all the  triangles (★★★)\n",
    "`💡hint: repeat, np.roll, np.sort, view, np.unique`"
   ]
  },
  {
   "cell_type": "code",
   "execution_count": 195,
   "id": "be837a66",
   "metadata": {},
   "outputs": [
    {
     "name": "stdout",
     "output_type": "stream",
     "text": [
      "[0. 1. 3. 9. 3. 4. 1.]\n"
     ]
    }
   ],
   "source": [
    "faces = np.random.randint(0,100,(10,3))\n",
    "a=np.roll(faces.repeat(2,axis=1),-1,axis=1)\n",
    "a=a.reshape(len(a)*3,2)\n",
    "a=np.sort(a,axis=1)\n",
    "b=a.view( dtype=[('p0',a.dtype),('p1',a.dtype)] )\n",
    "b=np.unique(c)\n",
    "print(c)"
   ]
  },
  {
   "cell_type": "markdown",
   "id": "3d11451b",
   "metadata": {},
   "source": [
    "#### 74. Given a sorted array C that corresponds to a bincount, how to produce an array A such that np.bincount(A) == C? (★★★)\n",
    "`💡hint: np.repeat`"
   ]
  },
  {
   "cell_type": "code",
   "execution_count": 199,
   "id": "6912341a",
   "metadata": {},
   "outputs": [
    {
     "name": "stdout",
     "output_type": "stream",
     "text": [
      "[1 3 5 5 6 7 8]\n"
     ]
    }
   ],
   "source": [
    "a=np.bincount([1,3,5,5,6,7,8])\n",
    "b=np.repeat(np.arange(len(a)),a)\n",
    "print(b)"
   ]
  },
  {
   "cell_type": "markdown",
   "id": "a0a45995",
   "metadata": {},
   "source": [
    "#### 75. How to compute averages using a sliding window over an array? (★★★)\n",
    "`💡hint: np.cumsum`"
   ]
  },
  {
   "cell_type": "code",
   "execution_count": 200,
   "id": "d307be78",
   "metadata": {},
   "outputs": [
    {
     "name": "stdout",
     "output_type": "stream",
     "text": [
      "[ 1.5  2.5  3.5  4.5  5.5  6.5  7.5  8.5  9.5 10.5 11.5 12.5 13.5 14.5\n",
      " 15.5 16.5 17.5]\n"
     ]
    }
   ],
   "source": [
    "def moving_average(a, n=4) :\n",
    "    ret = np.cumsum(a, dtype=float)\n",
    "    ret[n:] = ret[n:] - ret[:-n]\n",
    "    return ret[n - 1:] / n\n",
    "b= np.arange(20)\n",
    "print(moving_average(b, n=4))"
   ]
  },
  {
   "cell_type": "markdown",
   "id": "7808578f",
   "metadata": {},
   "source": [
    "#### 76. Consider a one-dimensional array Z, build a two-dimensional array whose first row is (Z[0],Z[1],Z[2]) and each subsequent row is  shifted by 1 (last row should be (Z[-3],Z[-2],Z[-1]) (★★★)\n",
    "`💡hint: from numpy.lib import stride_tricks`"
   ]
  },
  {
   "cell_type": "code",
   "execution_count": null,
   "id": "539e5596",
   "metadata": {},
   "outputs": [],
   "source": []
  },
  {
   "cell_type": "markdown",
   "id": "8e83df46",
   "metadata": {},
   "source": [
    "#### 77. How to negate a boolean, or to change the sign of a float inplace? (★★★)\n",
    "`💡hint: np.logical_not, np.negative`"
   ]
  },
  {
   "cell_type": "code",
   "execution_count": 205,
   "id": "90da18ec",
   "metadata": {},
   "outputs": [
    {
     "data": {
      "text/plain": [
       "array([-0.78528757, -0.05837109, -0.07034828,  0.63594646,  0.90586543,\n",
       "        0.37567399,  0.49344483,  0.14676969,  0.88694673, -0.56536174,\n",
       "        0.95815369,  0.51329247,  0.10833846,  0.56416309,  0.02445564,\n",
       "       -0.3182485 ,  0.44625297,  0.85889863,  0.09634238,  0.4899977 ,\n",
       "       -0.35508264, -0.42296384, -0.14319907, -0.02521061, -0.72454794,\n",
       "        0.95448894,  0.35581693,  0.80671192, -0.42351279,  0.3513555 ,\n",
       "       -0.16505611,  0.16260268,  0.3391709 ,  0.47156329, -0.53482266,\n",
       "        0.17508577,  0.06971314,  0.29320489,  0.6897094 ,  0.17822183,\n",
       "       -0.20026007,  0.14268413,  0.72801764,  0.84892506, -0.42927886,\n",
       "       -0.32701273, -0.39338283,  0.5650748 , -0.49650617,  0.13365525])"
      ]
     },
     "execution_count": 205,
     "metadata": {},
     "output_type": "execute_result"
    }
   ],
   "source": [
    "Z = np.random.randint(0,2,50)\n",
    "np.logical_not(Z, out=Z)\n",
    "Z = np.random.uniform(-1.0,1.0,50)\n",
    "np.negative(Z, out=Z)"
   ]
  },
  {
   "cell_type": "markdown",
   "id": "e67ff31c",
   "metadata": {},
   "source": [
    "#### 78. Consider 2 sets of points P0,P1 describing lines (2d) and a point p, how to compute distance from p to each line i (P0[i],P1[i])? (★★★)"
   ]
  },
  {
   "cell_type": "code",
   "execution_count": null,
   "id": "aaa0c5cb",
   "metadata": {},
   "outputs": [],
   "source": []
  },
  {
   "cell_type": "markdown",
   "id": "ad8821b1",
   "metadata": {},
   "source": [
    "#### 79. Consider 2 sets of points P0,P1 describing lines (2d) and a set of points P, how to compute distance from each point j (P[j]) to each line i (P0[i],P1[i])? (★★★)"
   ]
  },
  {
   "cell_type": "code",
   "execution_count": 211,
   "id": "12f9a524",
   "metadata": {},
   "outputs": [
    {
     "name": "stdout",
     "output_type": "stream",
     "text": [
      "[[14.23817972  0.7513201   2.32531941  6.59555947  0.40006761 10.29993588\n",
      "   1.84002836  7.64683376  2.77648213 11.93670712]\n",
      " [10.33965046  3.48217968  7.63948291  4.99875172  3.49720095  6.9202279\n",
      "   8.10051388  6.19441498  1.69547125  7.34206062]\n",
      " [13.28376939  0.35285591  4.60463031  6.59460873  1.50695897  9.57080865\n",
      "   4.22864154  7.70229963  1.56322049 10.66639694]\n",
      " [ 8.25636127  5.18292849  2.37165623  0.91372912  2.3172062   4.29981696\n",
      "   4.35247497  2.01195456  3.10341088  6.09240601]\n",
      " [ 1.27315894 12.05499165  1.62290573  6.03928281  5.33727475  2.78539118\n",
      "   6.58309166  4.90353553  9.87040601  0.61087258]\n",
      " [ 4.40524176  9.00671665  2.44905192  2.72529764  3.50513947  0.44169309\n",
      "   6.01161311  1.59582058  6.89467002  2.32274784]\n",
      " [ 0.12634758 13.53000195  6.50203872  5.18727977  0.96106595  3.44651843\n",
      "  11.32584982  3.937651   11.58743052  2.45554037]\n",
      " [ 0.24691394 13.35145435  5.65012163  5.41196526  1.75130582  3.41106029\n",
      "  10.53066761  4.18160863 11.36587028  2.21120199]\n",
      " [ 3.06109088 10.84995832  9.8197285   1.06820717  3.23316535  0.16726765\n",
      "  13.01582192  0.23032246  9.10719532  0.08499548]\n",
      " [ 1.89069453 14.99230066  1.26019497 10.2034541   9.18336162  6.25097899\n",
      "   5.36802718  9.1054888  12.62825837  3.26962136]]\n"
     ]
    }
   ],
   "source": [
    "P0 = np.random.uniform(-10, 10, (10,2))\n",
    "P1 = np.random.uniform(-10,10,(10,2))\n",
    "p = np.random.uniform(-10, 10, (10,2))\n",
    "print(np.array([distance(P0,P1,p_i) for p_i in p]))"
   ]
  },
  {
   "cell_type": "markdown",
   "id": "a0c8cbf5",
   "metadata": {},
   "source": [
    "#### 80. Consider an arbitrary array, write a function that extract a subpart with a fixed shape and centered on a given element (pad with a `fill` value when necessary) (★★★)\n",
    "`💡hint: minimum maximum`"
   ]
  },
  {
   "cell_type": "code",
   "execution_count": null,
   "id": "6e44ae96",
   "metadata": {},
   "outputs": [],
   "source": []
  },
  {
   "cell_type": "markdown",
   "id": "781fa236",
   "metadata": {},
   "source": [
    "#### 81. Consider an array a = [1,2,3,4,5,6,7,8,9,10,11,12,13,14], how to generate an array b = [[1,2,3,4], [2,3,4,5], [3,4,5,6], ..., [11,12,13,14]]? (★★★)\n",
    "`💡hint: stride_tricks.as_strided`"
   ]
  },
  {
   "cell_type": "code",
   "execution_count": null,
   "id": "82e3d17e",
   "metadata": {},
   "outputs": [],
   "source": []
  },
  {
   "cell_type": "markdown",
   "id": "9c9bb0f3",
   "metadata": {},
   "source": [
    "#### 82. Compute a matrix rank (★★★)\n",
    "`💡hint: np.linalg.svd`"
   ]
  },
  {
   "cell_type": "code",
   "execution_count": null,
   "id": "18f053fa",
   "metadata": {},
   "outputs": [],
   "source": []
  },
  {
   "cell_type": "markdown",
   "id": "7d8dc135",
   "metadata": {},
   "source": [
    "#### 83. How to find the most frequent value in an array?\n",
    "`💡hint: np.bincount, argmax`"
   ]
  },
  {
   "cell_type": "code",
   "execution_count": null,
   "id": "81844e99",
   "metadata": {},
   "outputs": [],
   "source": []
  },
  {
   "cell_type": "markdown",
   "id": "aa340126",
   "metadata": {},
   "source": [
    "#### 84. Extract all the contiguous 3x3 blocks from a random 10x10 matrix (★★★)\n",
    "`💡hint: stride_tricks.as_strided`"
   ]
  },
  {
   "cell_type": "code",
   "execution_count": null,
   "id": "f39dd2dd",
   "metadata": {},
   "outputs": [],
   "source": []
  },
  {
   "cell_type": "markdown",
   "id": "6b6d2c84",
   "metadata": {},
   "source": [
    "#### 85. Create a 2D array subclass such that a[i,j] == a[j,i] (★★★)\n",
    "`💡hint: class method`"
   ]
  },
  {
   "cell_type": "code",
   "execution_count": null,
   "id": "1916d67d",
   "metadata": {},
   "outputs": [],
   "source": []
  },
  {
   "cell_type": "markdown",
   "id": "7be0fe36",
   "metadata": {},
   "source": [
    "#### 86. Consider a set of p matrices wich shape (n,n) and a set of p vectors with shape (n,1). How to compute the sum of of the p matrix products at once? (result has shape (n,1)) (★★★)\n",
    "`💡hint: np.tensordot`"
   ]
  },
  {
   "cell_type": "code",
   "execution_count": null,
   "id": "1d07c08f",
   "metadata": {},
   "outputs": [],
   "source": []
  },
  {
   "cell_type": "markdown",
   "id": "a840a88f",
   "metadata": {},
   "source": [
    "#### 87. Consider a 16x16 array, how to get the block-sum (block size is 4x4)? (★★★)\n",
    "`💡hint: np.add.reduceat`"
   ]
  },
  {
   "cell_type": "code",
   "execution_count": null,
   "id": "7200f861",
   "metadata": {},
   "outputs": [],
   "source": []
  },
  {
   "cell_type": "markdown",
   "id": "c2bd7385",
   "metadata": {},
   "source": [
    "#### 88. How to implement the Game of Life using numpy arrays? (★★★)"
   ]
  },
  {
   "cell_type": "code",
   "execution_count": null,
   "id": "7a5d67d2",
   "metadata": {},
   "outputs": [],
   "source": []
  },
  {
   "cell_type": "markdown",
   "id": "4c70397b",
   "metadata": {},
   "source": [
    "#### 89. How to get the n largest values of an array (★★★)\n",
    "`💡hint: np.argsort | np.argpartition`"
   ]
  },
  {
   "cell_type": "code",
   "execution_count": null,
   "id": "732993b7",
   "metadata": {},
   "outputs": [],
   "source": []
  },
  {
   "cell_type": "markdown",
   "id": "15ba193c",
   "metadata": {},
   "source": [
    "#### 90. Given an arbitrary number of vectors, build the cartesian product (every combinations of every item) (★★★)\n",
    "`💡hint: np.indices`"
   ]
  },
  {
   "cell_type": "code",
   "execution_count": null,
   "id": "3a315a00",
   "metadata": {},
   "outputs": [],
   "source": []
  },
  {
   "cell_type": "markdown",
   "id": "ec828405",
   "metadata": {},
   "source": [
    "#### 91. How to create a record array from a regular array? (★★★)\n",
    "`💡hint: np.core.records.fromarrays`"
   ]
  },
  {
   "cell_type": "code",
   "execution_count": null,
   "id": "608a017a",
   "metadata": {},
   "outputs": [],
   "source": []
  },
  {
   "cell_type": "markdown",
   "id": "d94352b6",
   "metadata": {},
   "source": [
    "#### 92. Consider a large vector A, compute A to the power of 3 using 3 different methods (★★★)\n",
    "`💡hint: np.power, *, np.einsum`"
   ]
  },
  {
   "cell_type": "code",
   "execution_count": null,
   "id": "759d5ce5",
   "metadata": {},
   "outputs": [],
   "source": []
  },
  {
   "cell_type": "markdown",
   "id": "7c3a9e32",
   "metadata": {},
   "source": [
    "#### 93. Consider two arrays A and B of shape (8,3) and (2,2). How to find rows of A that contain elements of each row of B regardless of the order of the elements in B? (★★★)\n",
    "`💡hint: np.where`"
   ]
  },
  {
   "cell_type": "code",
   "execution_count": null,
   "id": "5c293501",
   "metadata": {},
   "outputs": [],
   "source": []
  },
  {
   "cell_type": "markdown",
   "id": "da9d5eeb",
   "metadata": {},
   "source": [
    "#### 94. Considering a 10x3 matrix, extract rows with unequal values (e.g. [2,2,3]) (★★★)"
   ]
  },
  {
   "cell_type": "code",
   "execution_count": null,
   "id": "89d5fba0",
   "metadata": {},
   "outputs": [],
   "source": []
  },
  {
   "cell_type": "markdown",
   "id": "f7b65fd5",
   "metadata": {},
   "source": [
    "#### 95. Convert a vector of ints into a matrix binary representation (★★★)\n",
    "`💡hint: np.unpackbits`"
   ]
  },
  {
   "cell_type": "code",
   "execution_count": null,
   "id": "4edef8b1",
   "metadata": {},
   "outputs": [],
   "source": []
  },
  {
   "cell_type": "markdown",
   "id": "2784c996",
   "metadata": {},
   "source": [
    "#### 96. Given a two dimensional array, how to extract unique rows? (★★★)\n",
    "`💡hint: np.ascontiguousarray | np.unique`"
   ]
  },
  {
   "cell_type": "code",
   "execution_count": null,
   "id": "1d65d01e",
   "metadata": {},
   "outputs": [],
   "source": []
  },
  {
   "cell_type": "markdown",
   "id": "71a7574c",
   "metadata": {},
   "source": [
    "#### 97. Considering 2 vectors A & B, write the einsum equivalent of inner, outer, sum, and mul function (★★★)\n",
    "`💡hint: np.einsum`"
   ]
  },
  {
   "cell_type": "code",
   "execution_count": null,
   "id": "43471b2e",
   "metadata": {},
   "outputs": [],
   "source": []
  },
  {
   "cell_type": "markdown",
   "id": "30f06441",
   "metadata": {},
   "source": [
    "#### 98. Considering a path described by two vectors (X,Y), how to sample it using equidistant samples (★★★)?\n",
    "`💡hint: np.cumsum, np.interp`"
   ]
  },
  {
   "cell_type": "code",
   "execution_count": null,
   "id": "ddac593f",
   "metadata": {},
   "outputs": [],
   "source": []
  },
  {
   "cell_type": "markdown",
   "id": "e5737276",
   "metadata": {},
   "source": [
    "#### 99. Given an integer n and a 2D array X, select from X the rows which can be interpreted as draws from a multinomial distribution with n degrees, i.e., the rows which only contain integers and which sum to n. (★★★)\n",
    "`💡hint: np.logical_and.reduce, np.mod`"
   ]
  },
  {
   "cell_type": "code",
   "execution_count": null,
   "id": "5d0d0fa8",
   "metadata": {},
   "outputs": [],
   "source": []
  },
  {
   "cell_type": "markdown",
   "id": "5882e36d",
   "metadata": {},
   "source": [
    "#### 100. Compute bootstrapped 95% confidence intervals for the mean of a 1D array X (i.e., resample the elements of an array with replacement N times, compute the mean of each sample, and then compute percentiles over the means). (★★★)\n",
    "`💡hint: np.percentile`"
   ]
  },
  {
   "cell_type": "code",
   "execution_count": null,
   "id": "c21a8816",
   "metadata": {},
   "outputs": [],
   "source": []
  }
 ],
 "metadata": {
  "hide_input": false,
  "kernelspec": {
   "display_name": "Python 3",
   "language": "python",
   "name": "python3"
  },
  "language_info": {
   "codemirror_mode": {
    "name": "ipython",
    "version": 3
   },
   "file_extension": ".py",
   "mimetype": "text/x-python",
   "name": "python",
   "nbconvert_exporter": "python",
   "pygments_lexer": "ipython3",
   "version": "3.8.8"
  },
  "toc": {
   "base_numbering": 1,
   "nav_menu": {},
   "number_sections": true,
   "sideBar": true,
   "skip_h1_title": false,
   "title_cell": "Table of Contents",
   "title_sidebar": "Contents",
   "toc_cell": false,
   "toc_position": {},
   "toc_section_display": true,
   "toc_window_display": false
  },
  "varInspector": {
   "cols": {
    "lenName": 16,
    "lenType": 16,
    "lenVar": 40
   },
   "kernels_config": {
    "python": {
     "delete_cmd_postfix": "",
     "delete_cmd_prefix": "del ",
     "library": "var_list.py",
     "varRefreshCmd": "print(var_dic_list())"
    },
    "r": {
     "delete_cmd_postfix": ") ",
     "delete_cmd_prefix": "rm(",
     "library": "var_list.r",
     "varRefreshCmd": "cat(var_dic_list()) "
    }
   },
   "types_to_exclude": [
    "module",
    "function",
    "builtin_function_or_method",
    "instance",
    "_Feature"
   ],
   "window_display": false
  }
 },
 "nbformat": 4,
 "nbformat_minor": 5
}
